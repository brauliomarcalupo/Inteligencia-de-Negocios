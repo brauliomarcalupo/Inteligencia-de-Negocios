{
  "nbformat": 4,
  "nbformat_minor": 0,
  "metadata": {
    "colab": {
      "provenance": [],
      "authorship_tag": "ABX9TyN3OfZ8DFuYQzh+0YXTFxUz",
      "include_colab_link": true
    },
    "kernelspec": {
      "name": "python3",
      "display_name": "Python 3"
    },
    "language_info": {
      "name": "python"
    }
  },
  "cells": [
    {
      "cell_type": "markdown",
      "metadata": {
        "id": "view-in-github",
        "colab_type": "text"
      },
      "source": [
        "<a href=\"https://colab.research.google.com/github/brauliomarcalupo/Inteligencia-de-Negocios/blob/main/ETL1.ipynb\" target=\"_parent\"><img src=\"https://colab.research.google.com/assets/colab-badge.svg\" alt=\"Open In Colab\"/></a>"
      ]
    },
    {
      "cell_type": "code",
      "source": [
        "!pip install mysql.connector"
      ],
      "metadata": {
        "colab": {
          "base_uri": "https://localhost:8080/"
        },
        "id": "V97XmLLLNweJ",
        "outputId": "669f986f-1b26-40c0-8b23-6b69a435934c"
      },
      "execution_count": 9,
      "outputs": [
        {
          "output_type": "stream",
          "name": "stdout",
          "text": [
            "Looking in indexes: https://pypi.org/simple, https://us-python.pkg.dev/colab-wheels/public/simple/\n",
            "Collecting mysql.connector\n",
            "  Downloading mysql-connector-2.2.9.tar.gz (11.9 MB)\n",
            "\u001b[2K     \u001b[90m━━━━━━━━━━━━━━━━━━━━━━━━━━━━━━━━━━━━━━━━\u001b[0m \u001b[32m11.9/11.9 MB\u001b[0m \u001b[31m70.6 MB/s\u001b[0m eta \u001b[36m0:00:00\u001b[0m\n",
            "\u001b[?25h  Preparing metadata (setup.py) ... \u001b[?25l\u001b[?25hdone\n",
            "Building wheels for collected packages: mysql.connector\n",
            "  Building wheel for mysql.connector (setup.py) ... \u001b[?25l\u001b[?25hdone\n",
            "  Created wheel for mysql.connector: filename=mysql_connector-2.2.9-cp38-cp38-linux_x86_64.whl size=247965 sha256=9f27fd339155936996df202e3ca3fbf9e435bc7abb1adfedf4a70b237b25d29d\n",
            "  Stored in directory: /root/.cache/pip/wheels/57/e4/98/5feafb5c393dd2540e44b064a6f95832990d543e5b4f53ea8f\n",
            "Successfully built mysql.connector\n",
            "Installing collected packages: mysql.connector\n",
            "Successfully installed mysql.connector-2.2.9\n"
          ]
        }
      ]
    },
    {
      "cell_type": "code",
      "execution_count": 10,
      "metadata": {
        "id": "_WCUj37hJPRn"
      },
      "outputs": [],
      "source": [
        "import pandas as pd\n",
        "import mysql.connector"
      ]
    },
    {
      "cell_type": "code",
      "source": [
        "#extract \n",
        "url = 'https://people.sc.fsu.edu/~jburkardt/data/csv/airtravel.csv'\n",
        "df = pd.read_csv(url)"
      ],
      "metadata": {
        "id": "73fR-zRSJhSJ"
      },
      "execution_count": 2,
      "outputs": []
    },
    {
      "cell_type": "code",
      "source": [
        "print(df)"
      ],
      "metadata": {
        "colab": {
          "base_uri": "https://localhost:8080/"
        },
        "id": "OzMQYy18KXq8",
        "outputId": "6f51a40f-38ae-42a6-9968-26178f199d68"
      },
      "execution_count": 3,
      "outputs": [
        {
          "output_type": "stream",
          "name": "stdout",
          "text": [
            "   Month   \"1958\"   \"1959\"   \"1960\"\n",
            "0    JAN      340      360      417\n",
            "1    FEB      318      342      391\n",
            "2    MAR      362      406      419\n",
            "3    APR      348      396      461\n",
            "4    MAY      363      420      472\n",
            "5    JUN      435      472      535\n",
            "6    JUL      491      548      622\n",
            "7    AUG      505      559      606\n",
            "8    SEP      404      463      508\n",
            "9    OCT      359      407      461\n",
            "10   NOV      310      362      390\n",
            "11   DEC      337      405      432\n"
          ]
        }
      ]
    },
    {
      "cell_type": "code",
      "source": [
        "#transform\n",
        "df['Suma'] = df[' \"1958\"'] + df[' \"1959\"'] + df[' \"1960\"'] "
      ],
      "metadata": {
        "id": "EG3DQ0nJKmaZ"
      },
      "execution_count": 7,
      "outputs": []
    },
    {
      "cell_type": "code",
      "source": [
        "print(df)"
      ],
      "metadata": {
        "colab": {
          "base_uri": "https://localhost:8080/"
        },
        "id": "PqcOzJNJLZcU",
        "outputId": "6c858196-7e60-43a6-c03d-da8fd2984ce8"
      },
      "execution_count": 8,
      "outputs": [
        {
          "output_type": "stream",
          "name": "stdout",
          "text": [
            "   Month   \"1958\"   \"1959\"   \"1960\"  Suma\n",
            "0    JAN      340      360      417  1117\n",
            "1    FEB      318      342      391  1051\n",
            "2    MAR      362      406      419  1187\n",
            "3    APR      348      396      461  1205\n",
            "4    MAY      363      420      472  1255\n",
            "5    JUN      435      472      535  1442\n",
            "6    JUL      491      548      622  1661\n",
            "7    AUG      505      559      606  1670\n",
            "8    SEP      404      463      508  1375\n",
            "9    OCT      359      407      461  1227\n",
            "10   NOV      310      362      390  1062\n",
            "11   DEC      337      405      432  1174\n"
          ]
        }
      ]
    }
  ]
}