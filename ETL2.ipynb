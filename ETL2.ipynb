{
  "nbformat": 4,
  "nbformat_minor": 0,
  "metadata": {
    "colab": {
      "provenance": [],
      "authorship_tag": "ABX9TyPWsdduWDgv/m4ZVSzL6tf9",
      "include_colab_link": true
    },
    "kernelspec": {
      "name": "python3",
      "display_name": "Python 3"
    },
    "language_info": {
      "name": "python"
    }
  },
  "cells": [
    {
      "cell_type": "markdown",
      "metadata": {
        "id": "view-in-github",
        "colab_type": "text"
      },
      "source": [
        "<a href=\"https://colab.research.google.com/github/brauliomarcalupo/Inteligencia-de-Negocios/blob/main/ETL2.ipynb\" target=\"_parent\"><img src=\"https://colab.research.google.com/assets/colab-badge.svg\" alt=\"Open In Colab\"/></a>"
      ]
    },
    {
      "cell_type": "code",
      "execution_count": 1,
      "metadata": {
        "id": "Xf_ojHaLSE0c"
      },
      "outputs": [],
      "source": [
        "import pandas as pd"
      ]
    },
    {
      "cell_type": "code",
      "source": [
        "#extract\n",
        "url = 'https://people.sc.fsu.edu/~jburkardt/data/csv/airtravel.csv'\n",
        "df = pd.read_csv(url)"
      ],
      "metadata": {
        "id": "yp42in-DSOG6"
      },
      "execution_count": 2,
      "outputs": []
    },
    {
      "cell_type": "code",
      "source": [
        "print(df)"
      ],
      "metadata": {
        "colab": {
          "base_uri": "https://localhost:8080/"
        },
        "id": "2tL4WhDZSSjx",
        "outputId": "14e0bfb3-cc61-4dab-a947-8d09feea2d59"
      },
      "execution_count": 3,
      "outputs": [
        {
          "output_type": "stream",
          "name": "stdout",
          "text": [
            "   Month   \"1958\"   \"1959\"   \"1960\"\n",
            "0    JAN      340      360      417\n",
            "1    FEB      318      342      391\n",
            "2    MAR      362      406      419\n",
            "3    APR      348      396      461\n",
            "4    MAY      363      420      472\n",
            "5    JUN      435      472      535\n",
            "6    JUL      491      548      622\n",
            "7    AUG      505      559      606\n",
            "8    SEP      404      463      508\n",
            "9    OCT      359      407      461\n",
            "10   NOV      310      362      390\n",
            "11   DEC      337      405      432\n"
          ]
        }
      ]
    },
    {
      "cell_type": "code",
      "source": [
        "#transform\n",
        "df['Promedio'] = (df[' \"1958\"'] + df[' \"1959\"'] + df[' \"1960\"'])/ 3\n",
        "df = df.dropna()\n",
        "df = df.rename(columns = {'\"1958\"' : 'Año 1958', '\"1959\"' : 'Año 1959','\"1960\"' : 'Año 1960'})"
      ],
      "metadata": {
        "id": "DvAg5i2jSVYR"
      },
      "execution_count": 4,
      "outputs": []
    },
    {
      "cell_type": "code",
      "source": [
        "print(df)"
      ],
      "metadata": {
        "colab": {
          "base_uri": "https://localhost:8080/"
        },
        "id": "V42_q9w6UdxL",
        "outputId": "fa8b9506-71b9-44fc-91ab-4523d5185a0f"
      },
      "execution_count": 5,
      "outputs": [
        {
          "output_type": "stream",
          "name": "stdout",
          "text": [
            "   Month   \"1958\"   \"1959\"   \"1960\"    Promedio\n",
            "0    JAN      340      360      417  372.333333\n",
            "1    FEB      318      342      391  350.333333\n",
            "2    MAR      362      406      419  395.666667\n",
            "3    APR      348      396      461  401.666667\n",
            "4    MAY      363      420      472  418.333333\n",
            "5    JUN      435      472      535  480.666667\n",
            "6    JUL      491      548      622  553.666667\n",
            "7    AUG      505      559      606  556.666667\n",
            "8    SEP      404      463      508  458.333333\n",
            "9    OCT      359      407      461  409.000000\n",
            "10   NOV      310      362      390  354.000000\n",
            "11   DEC      337      405      432  391.333333\n"
          ]
        }
      ]
    },
    {
      "cell_type": "code",
      "source": [
        "df.to_csv('datos_viajes.csv', index = False)"
      ],
      "metadata": {
        "id": "lDEmYsM3UgB4"
      },
      "execution_count": 6,
      "outputs": []
    }
  ]
}