{
  "nbformat": 4,
  "nbformat_minor": 0,
  "metadata": {
    "colab": {
      "provenance": [],
      "authorship_tag": "ABX9TyOeWpktdewfODTiyWObO02S",
      "include_colab_link": true
    },
    "kernelspec": {
      "name": "python3",
      "display_name": "Python 3"
    },
    "language_info": {
      "name": "python"
    }
  },
  "cells": [
    {
      "cell_type": "markdown",
      "metadata": {
        "id": "view-in-github",
        "colab_type": "text"
      },
      "source": [
        "<a href=\"https://colab.research.google.com/github/brauliomarcalupo/Inteligencia-de-Negocios/blob/main/ETL3.ipynb\" target=\"_parent\"><img src=\"https://colab.research.google.com/assets/colab-badge.svg\" alt=\"Open In Colab\"/></a>"
      ]
    },
    {
      "cell_type": "code",
      "execution_count": 1,
      "metadata": {
        "id": "zIG8xMTMVRwN"
      },
      "outputs": [],
      "source": [
        "import pandas as pd"
      ]
    },
    {
      "cell_type": "code",
      "source": [
        "url = 'https://raw.githubusercontent.com/datasets/covid-19/master/data/countries-aggregated.csv'\n",
        "df = pd.read_csv(url)"
      ],
      "metadata": {
        "id": "CyI4kTs0VV0V"
      },
      "execution_count": 6,
      "outputs": []
    },
    {
      "cell_type": "code",
      "source": [
        "print(df)"
      ],
      "metadata": {
        "colab": {
          "base_uri": "https://localhost:8080/"
        },
        "id": "a7G3ZuIHVuJr",
        "outputId": "72ae343b-437f-4e46-dad9-c997205e6e9a"
      },
      "execution_count": 7,
      "outputs": [
        {
          "output_type": "stream",
          "name": "stdout",
          "text": [
            "              Date      Country  Confirmed  Recovered  Deaths\n",
            "0       2020-01-22  Afghanistan          0          0       0\n",
            "1       2020-01-23  Afghanistan          0          0       0\n",
            "2       2020-01-24  Afghanistan          0          0       0\n",
            "3       2020-01-25  Afghanistan          0          0       0\n",
            "4       2020-01-26  Afghanistan          0          0       0\n",
            "...            ...          ...        ...        ...     ...\n",
            "161563  2022-04-12     Zimbabwe     247094          0    5460\n",
            "161564  2022-04-13     Zimbabwe     247160          0    5460\n",
            "161565  2022-04-14     Zimbabwe     247208          0    5462\n",
            "161566  2022-04-15     Zimbabwe     247237          0    5462\n",
            "161567  2022-04-16     Zimbabwe     247237          0    5462\n",
            "\n",
            "[161568 rows x 5 columns]\n"
          ]
        }
      ]
    },
    {
      "cell_type": "code",
      "source": [
        "#transform \n",
        "df = df[df['Country']== 'Ecuador']\n",
        "df = df[['Date','Country','Confirmed','Deaths']]\n",
        "df['Recovered'] = df['Confirmed'] - df['Deaths']\n",
        "df = df[df['Confirmed'] > 0]\n",
        "df = df.dropna()\n",
        "df = df.rename(columns = {'Date' : 'Fecha', 'Country' : 'País','Confirmed' : 'Confirmados', 'Deaths' : 'Muertos', 'Recovered' : 'Recuperados'})\n"
      ],
      "metadata": {
        "id": "A5wPAGrvXDrp"
      },
      "execution_count": 8,
      "outputs": []
    },
    {
      "cell_type": "code",
      "source": [
        "print(df)"
      ],
      "metadata": {
        "colab": {
          "base_uri": "https://localhost:8080/"
        },
        "id": "ohdbFGOhY7rU",
        "outputId": "1604e134-8663-4518-f24e-daf331ca5f9f"
      },
      "execution_count": 9,
      "outputs": [
        {
          "output_type": "stream",
          "name": "stdout",
          "text": [
            "            Fecha     País  Confirmados  Muertos  Recuperados\n",
            "43287  2020-03-01  Ecuador            6        0            6\n",
            "43288  2020-03-02  Ecuador            6        0            6\n",
            "43289  2020-03-03  Ecuador            7        0            7\n",
            "43290  2020-03-04  Ecuador           10        0           10\n",
            "43291  2020-03-05  Ecuador           13        0           13\n",
            "...           ...      ...          ...      ...          ...\n",
            "44059  2022-04-12  Ecuador       865263    35508       829755\n",
            "44060  2022-04-13  Ecuador       865585    35513       830072\n",
            "44061  2022-04-14  Ecuador       865585    35513       830072\n",
            "44062  2022-04-15  Ecuador       865585    35513       830072\n",
            "44063  2022-04-16  Ecuador       865585    35513       830072\n",
            "\n",
            "[777 rows x 5 columns]\n"
          ]
        }
      ]
    },
    {
      "cell_type": "code",
      "source": [
        "df.to_csv('datos_covid_EC.csv', index = False)"
      ],
      "metadata": {
        "id": "uA2zEShPbU3O"
      },
      "execution_count": 10,
      "outputs": []
    }
  ]
}